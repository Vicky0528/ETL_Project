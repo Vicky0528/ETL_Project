{
 "cells": [
  {
   "cell_type": "markdown",
   "metadata": {},
   "source": [
    "# ETL Project\n",
    "#### Group: Yan Zhang, Ray Speakmoore, Christian Fernandez"
   ]
  },
  {
   "cell_type": "code",
   "execution_count": null,
   "metadata": {},
   "outputs": [],
   "source": [
    "import pandas as pd"
   ]
  },
  {
   "cell_type": "markdown",
   "metadata": {},
   "source": [
    "## === Sales Order Details ==="
   ]
  },
  {
   "cell_type": "code",
   "execution_count": null,
   "metadata": {},
   "outputs": [],
   "source": [
    "sales_csv = \"Resources/Store_Order_Detail.csv\"\n",
    "sales_df = pd.read_csv(sales_csv, encoding = \"ISO-8859-1\")\n",
    "sales_df.head()"
   ]
  },
  {
   "cell_type": "markdown",
   "metadata": {},
   "source": [
    "## === Clean DataSet ==="
   ]
  },
  {
   "cell_type": "code",
   "execution_count": null,
   "metadata": {},
   "outputs": [],
   "source": [
    "new_sale_df = sales_df.copy()\n",
    "new_sale_df['County'],new_sale_df['State'] = sales_df['Address'].str.rsplit(',').str\n",
    "new_sale_df.head()"
   ]
  },
  {
   "cell_type": "code",
   "execution_count": null,
   "metadata": {},
   "outputs": [],
   "source": [
    "new_sale_df['Zip Code'] = sales_df['Postal Code'].str[:5]\n",
    "new_sale_df.head()"
   ]
  },
  {
   "cell_type": "code",
   "execution_count": null,
   "metadata": {},
   "outputs": [],
   "source": [
    "new_sale_df2 = new_sale_df[['Recipient','County','State','Zip Code','Date Paid','Amt Paid','Record #',\n",
    "                            'Item ID','Unit Price','Qty','Ext Price','Unnamed: 14']]\n",
    "new_sale_df2.head()"
   ]
  },
  {
   "cell_type": "code",
   "execution_count": null,
   "metadata": {},
   "outputs": [],
   "source": [
    "new_sale_df3 = new_sale_df2.copy()\n",
    "new_sale_df3['Date'],new_sale_df3['Time']  = new_sale_df2['Date Paid'].str.rsplit(' ').str"
   ]
  },
  {
   "cell_type": "code",
   "execution_count": null,
   "metadata": {},
   "outputs": [],
   "source": [
    "new_sale_df3.head()"
   ]
  },
  {
   "cell_type": "code",
   "execution_count": null,
   "metadata": {},
   "outputs": [],
   "source": [
    "new_sale_df4 = new_sale_df3.copy()\n",
    "new_sale_df4['Month'],new_sale_df4['Day'],new_sale_df4['Year'] = new_sale_df3['Date'].str.rsplit('/').str\n",
    "new_sale_df4.head()"
   ]
  },
  {
   "cell_type": "code",
   "execution_count": null,
   "metadata": {},
   "outputs": [],
   "source": [
    "new_sale_df4.rename(columns = {'Recipient':'Customer_name',\n",
    "                               'Amt Paid':'Paid_Amount',\n",
    "                               'Date':'Purchase_Date',\n",
    "                                'Unnamed: 14':'Model'},\n",
    "                               inplace = True)\n",
    "new_sale_df4.head()"
   ]
  },
  {
   "cell_type": "code",
   "execution_count": null,
   "metadata": {},
   "outputs": [],
   "source": [
    "new_sale_df5 = new_sale_df4.copy()\n",
    "new_sale_df5 = new_sale_df4[['Customer_name','Record #','Year','Month','County','State',\n",
    "                            'Zip Code','Item ID','Unit Price','Qty','Paid_Amount','Model']]\n",
    "new_sale_df5.count()"
   ]
  },
  {
   "cell_type": "code",
   "execution_count": null,
   "metadata": {},
   "outputs": [],
   "source": [
    "new_sale_df6 = new_sale_df5.copy()\n",
    "new_sale_df6 = new_sale_df5[new_sale_df5['Model'].str.contains(\"Model\", na=False)]\n",
    "new_sale_df6['Model'].value_counts()"
   ]
  },
  {
   "cell_type": "code",
   "execution_count": null,
   "metadata": {},
   "outputs": [],
   "source": [
    "new_sale_df7 = new_sale_df6.copy()\n",
    "new_sale_df7['Model'] = new_sale_df6['Model'].str[8:]\n",
    "new_sale_df7['Model'] = new_sale_df7['Model'].str.upper()\n",
    "new_sale_df7['Model'] = new_sale_df7['Model'].str.replace(\"FOR \", \"\") \n",
    "new_sale_df7['Model'].value_counts()"
   ]
  },
  {
   "cell_type": "code",
   "execution_count": null,
   "metadata": {},
   "outputs": [],
   "source": [
    "new_sale_df7['Model'] = new_sale_df7['Model'].str.replace('APPLE IPHONE 8 PLUS','IPHONE 8 PLUS')\n",
    "new_sale_df7['Model'] = new_sale_df7['Model'].str.replace('APPLE IPHONE 7 PLUS','IPHONE 7 PLUS')\n",
    "new_sale_df7['Model'] = new_sale_df7['Model'].str.replace('APPLE IPHONE 6 PLUS','IPHONE 6 PLUS')\n",
    "new_sale_df7['Model'] = new_sale_df7['Model'].str.replace('APPLE IPHONE 7','IPHONE 7')\n",
    "new_sale_df7['Model'] = new_sale_df7['Model'].str.replace('APPLE IPHONE 8','IPHONE 8')\n",
    "new_sale_df7['Model'] = new_sale_df7['Model'].str.replace('APPLE IPHONE 6','IPHONE 6')\n",
    "new_sale_df7['Model'] = new_sale_df7['Model'].str.replace('APPLE IPHONE 6S','IPHONE 6S')\n",
    "new_sale_df7['Model'] = new_sale_df7['Model'].str.replace('APPLE IPHONE XR','IPHONE XR')\n",
    "new_sale_df7['Model'] = new_sale_df7['Model'].str.replace('APPLE IPHONE XS','IPHONE XS')\n",
    "new_sale_df7['Model'] = new_sale_df7['Model'].str.replace('APPLE IPHONE X','IPHONE X')\n",
    "new_sale_df7['Model'] = new_sale_df7['Model'].str.replace('APPLE IPHONE XS MAX','IPHONE XS MAX')\n",
    "new_sale_df7['Model'] = new_sale_df7['Model'].replace(['SAMSUNG GALAXY S9+',\n",
    "                                                       'SAMSUNG GALAXY S9 PLUS+',\n",
    "                                                       'SAMSUNG GALAXY S9 PLUS PLUS'],'SAMSUNG GALAXY S9 PLUS')\n",
    "new_sale_df7['Model'] = new_sale_df7['Model'].replace(['GALAXY S8','SAMSUNG GALAXY S8'],'SAMSUNG GALAXY S8')\n",
    "new_sale_df7['Model'] = new_sale_df7['Model'].replace(['GALAXY S8 PLUS','SAMSUNG SAMSUNG GALAXY S8 PLUS',\n",
    "                                                      'SAMSUNG SAMSUNG GALAXY S8+',\n",
    "                                                       'SAMSUNG GALAXY S8+','SAMSUNG GALAXY S8 PLUS OR S8 EDGE','GALAXY S8 PLUS OR S8 EDGE'],'SAMSUNG GALAXY S8 PLUS')\n",
    "new_sale_df7['Model'] = new_sale_df7['Model'].str.replace('SAMSUNG GALAXY NOTE5','SAMSUNG GALAXY NOTE 5')\n",
    "new_sale_df7['Model'] = new_sale_df7['Model'].replace(['GALAXY NOTE 8','SAMSUNG SAMSUNG GALAXY NOTE 8'],'SAMSUNG GALAXY NOTE 8')\n",
    "new_sale_df7['Model'] = new_sale_df7['Model'].replace(['GALAXY NOTE 9','SAMSUNG SAMSUNG GALAXY NOTE 9'],'SAMSUNG GALAXY NOTE 9')\n",
    "new_sale_df7['Model'] = new_sale_df7['Model'].replace(['SAMSUNG GALAXY J7 STAR',\n",
    "                                                       'GALAXY J7 PRIME (J727T)',\n",
    "                                                       'SAMSUNG GALAXY J7 PRIME J727T',\n",
    "                                                       'SAMSUNG GALAXY J7 REFINE',\n",
    "                                                       'SAMSUNG GALAXY J7 V',\n",
    "                                                       'SAMSUNG GALAXY J7 V 2ND GEN',\n",
    "                                                       'SAMSUNG GALAXY J7 PRIME J727T',\n",
    "                                                       'SAMSUNG GALAXY J7 REFINE',\n",
    "                                                       'SAMSUNG GALAXY J7 REFINE'],'SAMSUNG GALAXY J7')\n",
    "new_sale_df7['Model'] = new_sale_df7['Model'].replace(['SAMSUNG GALAXY J3 2018 ( AT&T)',\n",
    "                                                       'SAMSUNG GALAXY J3 ACHIEVE',\n",
    "                                                       'SAMSUNG GALAXY J3 ECLIPSE',\n",
    "                                                       'SAMSUNG GALAXY J3 EMERGE',\n",
    "                                                       'SAMSUNG GALAXY J3 MISSION',\n",
    "                                                       'SAMSUNG GALAXY J3 PRIME',\n",
    "                                                       'SAMSUNG GALAXY J3 STAR', \n",
    "                                                       'SAMSUNG GALAXY J3 V 3RD GEN ( VERIZON )',\n",
    "                                                       'SAMSUNG GALAXY J3 J327P (2017)',\n",
    "                                                       'SAMSUNG GALAXY J3 LUNA PRO'],'SAMSUNG GALAXY J3')\n",
    "new_sale_df7['Model'] = new_sale_df7['Model'].replace(['LG ARISTO',\n",
    "                                                       'LG FIESTA LTE',\n",
    "                                                       'LG FORTUNE / M153',\n",
    "                                                       'LG HARMONY', 'LG K10',\n",
    "                                                       'LG K10 2017',\n",
    "                                                       'LG K20 PLUS',\n",
    "                                                       'LG K20 V',\n",
    "                                                       'LG K8 / 2017',\n",
    "                                                       'LG LV3 / MS210',\n",
    "                                                       'LG LV5',\n",
    "                                                       'LG PHOENIX 3 / M150',\n",
    "                                                       'LG REBEL 2 / L58VL',\n",
    "                                                       'LG X CHARGE'],'LG')\n",
    "new_sale_df7['Model'] = new_sale_df7['Model'].replace(['MOTOROLA MOTO Z2 FORCE',\n",
    "                                                      'MOTOROLA MOTO Z FORCE EDITION 2ND GEN'],'MOTOROLA')\n",
    "new_sale_df7['Model'] = new_sale_df7['Model'].replace(['ZTE BLADE SPARK Z971', 'ZTE BLADE X MAX', 'ZTE GRAND X4'],'ZTE')\n",
    "new_sale_df7['Model'].unique()"
   ]
  },
  {
   "cell_type": "code",
   "execution_count": null,
   "metadata": {},
   "outputs": [],
   "source": [
    "new_sale_df7['Model'].value_counts().sort_index()"
   ]
  },
  {
   "cell_type": "code",
   "execution_count": null,
   "metadata": {},
   "outputs": [],
   "source": [
    "new_sale_df7.set_index(\"Record #\")"
   ]
  },
  {
   "cell_type": "markdown",
   "metadata": {},
   "source": [
    "## === 2018 Model Sales Sum ==="
   ]
  },
  {
   "cell_type": "code",
   "execution_count": null,
   "metadata": {},
   "outputs": [],
   "source": [
    "#ave_sale_df = pd.DataFrame({\"Sales Average\":new_sale_df7.groupby([\"Model\"])[\"Ext Price\"].mean()})\n",
    "ave_sale_df = new_sale_df7.groupby([\"Model\"]).sum()\n",
    "ave_sale_df = ave_sale_df[['Qty', 'Paid_Amount']]\n",
    "ave_sale_df = ave_sale_df.sort_values(by=['Paid_Amount'],ascending=False)\n",
    "ave_sale_df"
   ]
  },
  {
   "cell_type": "markdown",
   "metadata": {},
   "source": [
    "## === 2018 Inventory purchase Cost ==="
   ]
  },
  {
   "cell_type": "code",
   "execution_count": null,
   "metadata": {},
   "outputs": [],
   "source": [
    "Inventory_csv = \"Resources/Item_Inventory_Price.csv\"\n",
    "Inventory_df = pd.read_csv(Inventory_csv, encoding = \"ISO-8859-1\")\n",
    "Inventory_df.rename(columns = {'Price':'Buying Price'}, inplace=True)\n",
    "Inventory_df.head()"
   ]
  },
  {
   "cell_type": "code",
   "execution_count": null,
   "metadata": {},
   "outputs": [],
   "source": [
    "new_sale_df7.head()"
   ]
  },
  {
   "cell_type": "code",
   "execution_count": null,
   "metadata": {},
   "outputs": [],
   "source": [
    "sales_df_final = new_sale_df7[['Record #', 'Item ID', 'Qty', 'Paid_Amount','Model']]\n",
    "sales_with_buying = pd.merge(sales_df_final,Inventory_df,how='inner',on='Item ID')\n",
    "sales_with_buying.head()"
   ]
  },
  {
   "cell_type": "code",
   "execution_count": null,
   "metadata": {},
   "outputs": [],
   "source": [
    "sales_with_buying['Buying Price'] = sales_with_buying['Buying Price'].astype(float)\n",
    "sales_with_buying['Total Buying'] = sales_with_buying['Buying Price'] * sales_with_buying['Qty'] \n",
    "sales_with_buying.head()"
   ]
  },
  {
   "cell_type": "code",
   "execution_count": null,
   "metadata": {},
   "outputs": [],
   "source": [
    "Inventory_Buying = sales_with_buying.groupby([\"Model\"]).sum()\n",
    "Inventory_Buying = Inventory_Buying[['Qty','Total Buying']]\n",
    "Inventory_Buying.sort_values(by=['Total Buying'])\n",
    "Inventory_Buying.head()"
   ]
  },
  {
   "cell_type": "markdown",
   "metadata": {},
   "source": [
    "## === 2018 Inventory Shipping Cost ==="
   ]
  },
  {
   "cell_type": "code",
   "execution_count": null,
   "metadata": {},
   "outputs": [],
   "source": [
    "shipping_csv = \"Resources/Shipping_Cost_Store.csv\"\n",
    "shipping_df = pd.read_csv(shipping_csv, encoding = \"ISO-8859-1\")\n",
    "shipping_df = shipping_df[['Order #','Zone','Shipping Cost']]\n",
    "shipping_df.rename(columns = {'Order #':'Record #'}, inplace=True)\n",
    "shipping_df.head()"
   ]
  },
  {
   "cell_type": "code",
   "execution_count": null,
   "metadata": {},
   "outputs": [],
   "source": [
    "sales_with_shipping = pd.merge(new_sale_df7,shipping_df,how='inner',on='Record #')\n",
    "sales_with_shipping = sales_with_shipping[['Record #','County','State','Zone','Qty','Paid_Amount','Shipping Cost','Model']]\n",
    "sales_with_shipping.head()"
   ]
  },
  {
   "cell_type": "code",
   "execution_count": null,
   "metadata": {},
   "outputs": [],
   "source": [
    "zone_shipping_df = sales_with_shipping.groupby([\"Zone\"]).sum()\n",
    "zone_shipping_df"
   ]
  },
  {
   "cell_type": "code",
   "execution_count": null,
   "metadata": {},
   "outputs": [],
   "source": [
    "address_shipping_df = sales_with_shipping.groupby(['State','County']).sum()\n",
    "address_shipping_df.head()"
   ]
  },
  {
   "cell_type": "code",
   "execution_count": null,
   "metadata": {},
   "outputs": [],
   "source": [
    "model_shipping_df = sales_with_shipping.groupby(['Model']).sum()\n",
    "model_shipping_df = model_shipping_df[['Paid_Amount','Shipping Cost']]\n",
    "model_shipping_df.head()"
   ]
  },
  {
   "cell_type": "markdown",
   "metadata": {},
   "source": [
    "## === Mergeing all Three Data ==="
   ]
  },
  {
   "cell_type": "code",
   "execution_count": null,
   "metadata": {},
   "outputs": [],
   "source": [
    "sale_df = pd.merge(ave_sale_df,Inventory_Buying['Total Buying'],how='inner',on='Model')\n",
    "sale_df_final = pd.merge(sale_df,model_shipping_df['Shipping Cost'],how='inner',on='Model')\n",
    "sale_df_final = sale_df_final.reset_index()\n",
    "sale_df_final.head()"
   ]
  },
  {
   "cell_type": "markdown",
   "metadata": {},
   "source": [
    "## === Exporting to SQL ==="
   ]
  },
  {
   "cell_type": "code",
   "execution_count": null,
   "metadata": {},
   "outputs": [],
   "source": [
    "from sqlalchemy import create_engine\n",
    "import pymongo"
   ]
  },
  {
   "cell_type": "code",
   "execution_count": null,
   "metadata": {},
   "outputs": [],
   "source": [
    "conn = 'mongodb://localhost:27017'\n",
    "client = pymongo.MongoClient(conn)"
   ]
  },
  {
   "cell_type": "code",
   "execution_count": null,
   "metadata": {},
   "outputs": [],
   "source": [
    "db = client.PhoneCase_DB\n",
    "Cases = db.Cases.find()"
   ]
  },
  {
   "cell_type": "code",
   "execution_count": null,
   "metadata": {},
   "outputs": [],
   "source": [
    "data = sale_df_final.to_dict(orient='records')  # Here's our added param..\n",
    "db.Cases.insert_many(data)"
   ]
  },
  {
   "cell_type": "code",
   "execution_count": null,
   "metadata": {},
   "outputs": [],
   "source": []
  }
 ],
 "metadata": {
  "kernelspec": {
   "display_name": "Python 3",
   "language": "python",
   "name": "python3"
  },
  "language_info": {
   "codemirror_mode": {
    "name": "ipython",
    "version": 3
   },
   "file_extension": ".py",
   "mimetype": "text/x-python",
   "name": "python",
   "nbconvert_exporter": "python",
   "pygments_lexer": "ipython3",
   "version": "3.7.3"
  }
 },
 "nbformat": 4,
 "nbformat_minor": 2
}
